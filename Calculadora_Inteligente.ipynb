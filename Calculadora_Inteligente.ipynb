{
  "nbformat": 4,
  "nbformat_minor": 0,
  "metadata": {
    "colab": {
      "provenance": []
    },
    "kernelspec": {
      "name": "python3",
      "display_name": "Python 3"
    },
    "language_info": {
      "name": "python"
    }
  },
  "cells": [
    {
      "cell_type": "code",
      "execution_count": 44,
      "metadata": {
        "colab": {
          "base_uri": "https://localhost:8080/"
        },
        "id": "xYpW_srlsaEw",
        "outputId": "5f07394b-13ce-4f69-b7ff-e8c606ba51e3"
      },
      "outputs": [
        {
          "output_type": "stream",
          "name": "stdout",
          "text": [
            "Seja bem-vindo(a) á Calculadora Inteligente\n",
            "Digite seu nome Rafael\n",
            "Olá, Rafael! Vamos começar!\n",
            "Digite o primeiro número 1\n",
            "Digite o segundo número 1\n",
            "Escolha a operação\n",
            "1 - Soma\n",
            "2 - Subtração\n",
            "3 - Multiplicação\n",
            "4 - Divisão\n",
            "5 - Comparações Lógicas (>, <, ==, !=)\n",
            "6 - Quero fechar a calculadora e tentar outra coisa!\n",
            "Rafael, digite o número da opção desejada: 1\n",
            "O resultado da soma é: 1.0 + 1.0 = 2.0\n"
          ]
        }
      ],
      "source": [
        "print('Seja bem-vindo(a) á Calculadora Inteligente')\n",
        "\n",
        "#Solicita o nome do usuário e o exibe\n",
        "nome=input('Digite seu nome ')\n",
        "print(f'Olá, {nome}! Vamos começar!')\n",
        "\n",
        "#Escolha dos números\n",
        "num1=float(input('Digite o primeiro número '))\n",
        "num2=float(input('Digite o segundo número '))\n",
        "\n",
        "#Opções de operações\n",
        "print('Escolha a operação')\n",
        "print('1 - Soma')\n",
        "print('2 - Subtração')\n",
        "print('3 - Multiplicação')\n",
        "print('4 - Divisão')\n",
        "print('5 - Comparações Lógicas (>, <, ==, !=)')\n",
        "print('6 - Quero fechar a calculadora e tentar outra coisa!')\n",
        "\n",
        "opção=int(input(f'{nome}, digite o número da opção desejada: '))\n",
        "\n",
        "#Cálculo da operação escolhida\n",
        "if opção==1:\n",
        "  print(f'O resultado da soma é: {num1} + {num2} = {num1+num2}')\n",
        "elif opção==2:\n",
        "  print(f'O resultado da subtração é: {num1} - {num2} = {num1-num2}')\n",
        "elif opção==3:\n",
        "  print(f'O resultado da multiplicação é: {num1} * {num2} = {num1*num2}')\n",
        "elif opção==4:\n",
        "  if num2==0:\n",
        "    print('Não é possível dividir por zero!')\n",
        "  else:\n",
        "    print(f'O resultado da divisão é: {num1} / {num2} = {num1/num2}')\n",
        "elif opção==5:\n",
        "  if num1>num2:\n",
        "    print(f'{num1} é maior que {num2}')\n",
        "  elif num1<num2:\n",
        "    print(f'{num1} é menor que {num2}')\n",
        "\n",
        "  if num1==num2:\n",
        "    print(f'{num1} é igual a {num2}')\n",
        "  else:\n",
        "        print(f'{num1} é diferente de {num2}')\n",
        "elif opção==6:\n",
        "  print('Obrigado por usar a Calculadora Inteligente!')\n",
        "else:\n",
        "  print('Opção inválida!')"
      ]
    }
  ]
}